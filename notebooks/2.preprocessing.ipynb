{
 "cells": [
  {
   "cell_type": "markdown",
   "id": "51396d66-2ef8-4967-96f0-51a0d277ec16",
   "metadata": {},
   "source": [
    "# Preprocessing\n",
    "\n",
    "## Overview \n",
    "\n",
    "This notebook is designed for processing a dataset of papers, extracting, and saving the words and noun phrases from the titles and abstracts of each paper. The notebook reads the raw data of papers from a CSV file, processes each paper's title and abstract, and then writes the processed data into separate CSV files for words and noun phrases respectively. This process is performed on-the-fly, in which papers are read and processed line-by-line.\n",
    "\n",
    "## Workflow\n",
    "- **Setting Up the Environment**: The script begins by importing necessary libraries and modules. It also adjusts the system’s maximum integer size to avoid errors when reading large lines from the CSV file.\n",
    "\n",
    "- **Counting the Number of Papers**: It calculates the total number of papers to be processed by counting the lines in the raw data CSV file. This is done in order to have a progress bar (tqdm) that estimates the time necessary to process the text.\n",
    "\n",
    "- **Preparing Output Files**: The notebook then prepares two separate CSV files to store the processed words and noun phrases. It writes the headers to these files in preparation for data writing.\n",
    "\n",
    "- **Processing Each Paper**: The script reads the raw data CSV file line by line, skipping the header. For each paper’s title and abstract, it performs the following steps:\n",
    "    - Extracts and processes the text to obtain words and noun phrases.\n",
    "    - Writes the processed data into the respective CSV files, associating each set of processed data with the paper’s ID.\n",
    "\n",
    "> **Note**: The processing is based on the script imported from `../scripts/preprocessing`.\n",
    "\n",
    "## Output\n",
    "The notebook generates two CSV files as output:\n",
    "\n",
    "- A CSV file containing the words extracted from the titles and abstracts of each paper, associated with the paper’s ID.\n",
    "- A CSV file containing the noun phrases extracted from the titles and abstracts of each paper, associated with the paper’s ID.\n",
    "\n",
    "Each row in these files corresponds to a paper from the raw data file, and contains the paper’s ID followed by the processed data extracted from the title and abstract. The processed data is stored in a comma-separated format, making it easy to read and analyze in subsequent steps of the data analysis.\n",
    "\n",
    "## Important\n",
    "Be careful with the spacy tokenizer and mispelling errors from the raw text."
   ]
  },
  {
   "cell_type": "code",
   "execution_count": null,
   "id": "cc9992c9-b8d7-44b7-8e51-dbac788f0eb5",
   "metadata": {},
   "outputs": [],
   "source": [
    "%load_ext autoreload\n",
    "%autoreload 2\n",
    "\n",
    "import sys\n",
    "sys.path.insert(1, '../science_novelty/')\n",
    "\n",
    "import preprocessing\n",
    "from tqdm.notebook import tqdm\n",
    "import csv\n",
    "\n",
    "## Increase the max size of a line reading, otherwise an error is raised\n",
    "maxInt = sys.maxsize\n",
    "\n",
    "while True:\n",
    "    # decrease the maxInt value by factor 10 \n",
    "    # as long as the OverflowError occurs.\n",
    "\n",
    "    try:\n",
    "        csv.field_size_limit(maxInt)\n",
    "        break\n",
    "    except OverflowError:\n",
    "        maxInt = int(maxInt/10)"
   ]
  },
  {
   "cell_type": "code",
   "execution_count": null,
   "id": "c79e60e6-3cd1-4d6d-b06b-d8aaa7bc1341",
   "metadata": {
    "tags": []
   },
   "outputs": [],
   "source": [
    "print('Get the number of papers to process...')\n",
    "with open('../data/raw/papers_raw.csv', 'r', encoding = 'utf-8') as file:\n",
    "    line_count = sum(1 for line in file)\n",
    "\n",
    "# Subtract 1 for the header if the CSV has a header\n",
    "total_papers = line_count - 1\n",
    "\n",
    "print('Preparing for writing...')\n",
    "words_writer = open('../data/processed/papers_words.csv', mode = 'w', encoding = 'utf-8')\n",
    "words_writer.write('PaperID,Words_Title,Words_Abstract\\n') # write the first line for the headers\n",
    "\n",
    "phrases_writer = open('../data/processed/papers_phrases.csv', mode = 'w', encoding = 'utf-8')\n",
    "phrases_writer.write('PaperID,Phrases_Title,Phrases_Abstract\\n') # write the first line for the headers\n",
    "\n",
    "print('Processing...')\n",
    "with open('../data/raw/papers_raw.csv', mode = 'r', encoding='utf-8') as reader:\n",
    "    csv_reader = csv.reader(reader, delimiter='\\t', quotechar='\"')\n",
    "    \n",
    "    # Skip header\n",
    "    next(csv_reader)\n",
    "\n",
    "    for line in tqdm(csv_reader, total = total_papers):\n",
    "        \n",
    "        paperID, date, title, abstract = line\n",
    "\n",
    "        title_words = preprocessing.process_text(title.lower(), 'words')\n",
    "        abstract_words = preprocessing.process_text(abstract.lower(), 'words')\n",
    "\n",
    "        title_phrases = preprocessing.process_text(title.lower(), 'phrases')\n",
    "        abstract_phrases = preprocessing.process_text(abstract.lower(), 'phrases')    \n",
    "            \n",
    "        words_writer.write(f'{paperID},{title_words},{abstract_words}\\n')\n",
    "        phrases_writer.write(f'{paperID},{title_phrases},{abstract_phrases}\\n')\n",
    "        "
   ]
  }
 ],
 "metadata": {
  "kernelspec": {
   "display_name": "Python 3 (ipykernel)",
   "language": "python",
   "name": "python3"
  },
  "language_info": {
   "codemirror_mode": {
    "name": "ipython",
    "version": 3
   },
   "file_extension": ".py",
   "mimetype": "text/x-python",
   "name": "python",
   "nbconvert_exporter": "python",
   "pygments_lexer": "ipython3",
   "version": "3.8.5"
  }
 },
 "nbformat": 4,
 "nbformat_minor": 5
}
