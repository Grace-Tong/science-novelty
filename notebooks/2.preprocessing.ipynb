{
 "cells": [
  {
   "cell_type": "markdown",
   "id": "51396d66-2ef8-4967-96f0-51a0d277ec16",
   "metadata": {},
   "source": [
    "# Overview \n",
    "\n",
    "This notebook shows how to perform the preprocessing of raw text data from scientific publications.\n",
    "\n",
    "See the Zenodo repository documentation:\n",
    "\n",
    "See the paper:"
   ]
  },
  {
   "cell_type": "code",
   "execution_count": 33,
   "id": "cc9992c9-b8d7-44b7-8e51-dbac788f0eb5",
   "metadata": {},
   "outputs": [
    {
     "name": "stdout",
     "output_type": "stream",
     "text": [
      "Reading stopwords...\n",
      "The autoreload extension is already loaded. To reload it, use:\n",
      "  %reload_ext autoreload\n"
     ]
    },
    {
     "name": "stderr",
     "output_type": "stream",
     "text": [
      "[nltk_data] Downloading package wordnet to\n",
      "[nltk_data]     C:\\Users\\u0152835\\AppData\\Roaming\\nltk_data...\n",
      "[nltk_data]   Package wordnet is already up-to-date!\n"
     ]
    }
   ],
   "source": [
    "%load_ext autoreload\n",
    "%autoreload 2\n",
    "\n",
    "import sys\n",
    "sys.path.insert(1, '../scripts/')\n",
    "\n",
    "import preprocessing\n",
    "from tqdm.notebook import tqdm\n",
    "import csv\n",
    "\n",
    "## Increase the max size of a line reading, otherwise an error is raised\n",
    "maxInt = sys.maxsize\n",
    "\n",
    "while True:\n",
    "    # decrease the maxInt value by factor 10 \n",
    "    # as long as the OverflowError occurs.\n",
    "\n",
    "    try:\n",
    "        csv.field_size_limit(maxInt)\n",
    "        break\n",
    "    except OverflowError:\n",
    "        maxInt = int(maxInt/10)"
   ]
  },
  {
   "cell_type": "code",
   "execution_count": null,
   "id": "c79e60e6-3cd1-4d6d-b06b-d8aaa7bc1341",
   "metadata": {
    "tags": []
   },
   "outputs": [],
   "source": [
    "print('Get the number of papers to process...')\n",
    "with open('../data/raw/papers_raw.csv', 'r', encoding = 'utf-8') as file:\n",
    "    line_count = sum(1 for line in file)\n",
    "\n",
    "# Subtract 1 for the header if the CSV has a header\n",
    "total_papers = line_count - 1\n",
    "\n",
    "print('Preparing for writing...')\n",
    "words_write = open('../data/processed/papers_words.csv','w')\n",
    "words_write.write('PaperID,Words_Title,Words_Abstract\\n') # write the first line for the headers\n",
    "bigrams_write = open('../data/processed/papers_bigrams.csv','w')\n",
    "bigrams_write.write('PaperID,Bigrams_Title,Bigrams_Abstract\\n') # write the first line for the headers\n",
    "trigrams_write = open('../data/processed/papers_trigrams.csv','w')\n",
    "trigrams_write.write('PaperID,Trigrams_Title,Trigrams_Abstract\\n') # write the first line for the headers\n",
    "\n",
    "print('Processing...')\n",
    "with open('../data/raw/papers_raw.csv', 'r', encoding='utf-8') as reader:\n",
    "    csv_reader = csv.reader(reader, delimiter='\\t', quotechar='\"')\n",
    "    \n",
    "    # Skip header\n",
    "    next(csv_reader)\n",
    "\n",
    "    for line in tqdm(csv_reader, total = total_papers):\n",
    "        \n",
    "        writing_words = line[0] # add the PaperID\n",
    "        writing_bigrams = line[0] # add the PaperID\n",
    "        writing_trigrams = line[0] # add the PaperID\n",
    "        \n",
    "        ## Assuming that the first two columns are the PaperID and the Date\n",
    "        for text in [line[2], line[3]]:  # loop over title and abstract\n",
    "            \n",
    "            # preprocess text (either title or abstract)            \n",
    "            unigrams, bigrams, trigrams = preprocessing.process_text(text)\n",
    "            \n",
    "            writing_words += ',' + ' '.join(unigrams)\n",
    "            writing_bigrams += ',' + ' '.join(bigrams)\n",
    "            writing_trigrams += ',' + ' '.join(trigrams)\n",
    "            \n",
    "        words_write.write(writing_words + '\\n')\n",
    "        bigrams_write.write(writing_bigrams + '\\n')\n",
    "        trigrams_write.write(writing_trigrams + '\\n')\n",
    "            \n",
    "# close the file\n",
    "words_write.close()\n",
    "bigrams_write.close()      \n",
    "trigrams_write.close()"
   ]
  }
 ],
 "metadata": {
  "kernelspec": {
   "display_name": "Python 3 (ipykernel)",
   "language": "python",
   "name": "python3"
  },
  "language_info": {
   "codemirror_mode": {
    "name": "ipython",
    "version": 3
   },
   "file_extension": ".py",
   "mimetype": "text/x-python",
   "name": "python",
   "nbconvert_exporter": "python",
   "pygments_lexer": "ipython3",
   "version": "3.9.7"
  }
 },
 "nbformat": 4,
 "nbformat_minor": 5
}
