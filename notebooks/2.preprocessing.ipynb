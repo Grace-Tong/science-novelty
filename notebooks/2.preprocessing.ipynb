{
 "cells": [
  {
   "cell_type": "markdown",
   "id": "51396d66-2ef8-4967-96f0-51a0d277ec16",
   "metadata": {},
   "source": [
    "# Preprocessing\n",
    "\n",
    "## Overview \n",
    "\n",
    "This notebook is designed for processing a dataset of papers, extracting, and saving the words and noun phrases from the titles and abstracts of each paper. The notebook reads the raw data of papers from a CSV file, processes each paper's title and abstract, and then writes the processed data into separate CSV files for words and noun phrases respectively. This process is performed on-the-fly, in which papers are read and processed line-by-line.\n",
    "\n",
    "## Workflow\n",
    "- **Setting Up the Environment**: The script begins by importing necessary libraries and modules. It also adjusts the system’s maximum integer size to avoid errors when reading large lines from the CSV file.\n",
    "\n",
    "- **Counting the Number of Papers**: It calculates the total number of papers to be processed by counting the lines in the raw data CSV file. This is done in order to have a progress bar (tqdm) that estimates the time necessary to process the text.\n",
    "\n",
    "- **Preparing Output Files**: The notebook then prepares three separate CSV files to store the processed words and noun phrases. It writes the headers to these files in preparation for data writing.\n",
    "\n",
    "- **Processing Each Paper**: The script reads the raw data CSV file line by line, skipping the header. For each paper’s title and abstract, it performs the following steps:\n",
    "    - Extracts and processes the text to obtain words and noun phrases.\n",
    "    - Writes the processed data into the respective CSV files, associating each set of processed data with the paper’s ID.\n",
    "\n",
    "> **Note**: The processing is based on the script imported from `../scripts/preprocessing`.\n",
    "\n",
    "## Output\n",
    "The notebook generates three CSV files as output:\n",
    "\n",
    "- A CSV file containing the words extracted from the titles and abstracts of each paper, associated with the paper’s ID.\n",
    "- A CSV file containing the noun phrases extracted from the titles and abstracts of each paper, associated with the paper’s ID.\n",
    "\n",
    "Each row in these files corresponds to a paper from the raw data file, and contains the paper’s ID followed by the processed data extracted from the title and abstract. The processed data is stored in a comma-separated format, making it easy to read and analyze in subsequent steps of the data analysis.\n",
    "\n",
    "## Important\n",
    "Be careful with the spacy tokenizer and mispelling errors from the raw text."
   ]
  },
  {
   "cell_type": "code",
   "execution_count": 27,
   "id": "cc9992c9-b8d7-44b7-8e51-dbac788f0eb5",
   "metadata": {},
   "outputs": [
    {
     "data": {
      "application/vnd.jupyter.widget-view+json": {
       "model_id": "9474dd517b684a498545c96a3db5e2e7",
       "version_major": 2,
       "version_minor": 0
      },
      "text/plain": [
       "0it [00:00, ?it/s]"
      ]
     },
     "metadata": {},
     "output_type": "display_data"
    },
    {
     "data": {
      "application/vnd.jupyter.widget-view+json": {
       "model_id": "f14d5a09f34548ab92ca51d46e600ca2",
       "version_major": 2,
       "version_minor": 0
      },
      "text/plain": [
       "0it [00:00, ?it/s]"
      ]
     },
     "metadata": {},
     "output_type": "display_data"
    },
    {
     "name": "stderr",
     "output_type": "stream",
     "text": [
      "[nltk_data] Downloading package stopwords to\n",
      "[nltk_data]     C:\\Users\\u0152835\\AppData\\Roaming\\nltk_data...\n",
      "[nltk_data]   Package stopwords is already up-to-date!\n",
      "[nltk_data] Downloading package stopwords to\n",
      "[nltk_data]     C:\\Users\\u0152835\\AppData\\Roaming\\nltk_data...\n",
      "[nltk_data]   Package stopwords is already up-to-date!\n"
     ]
    },
    {
     "name": "stdout",
     "output_type": "stream",
     "text": [
      "The autoreload extension is already loaded. To reload it, use:\n",
      "  %reload_ext autoreload\n"
     ]
    },
    {
     "name": "stderr",
     "output_type": "stream",
     "text": [
      "[autoreload of preprocessing failed: Traceback (most recent call last):\n",
      "  File \"C:\\Users\\u0152835\\.conda\\envs\\scispacy_processing\\lib\\site-packages\\IPython\\extensions\\autoreload.py\", line 273, in check\n",
      "    superreload(m, reload, self.old_objects)\n",
      "  File \"C:\\Users\\u0152835\\.conda\\envs\\scispacy_processing\\lib\\site-packages\\IPython\\extensions\\autoreload.py\", line 471, in superreload\n",
      "    module = reload(module)\n",
      "  File \"C:\\Users\\u0152835\\.conda\\envs\\scispacy_processing\\lib\\importlib\\__init__.py\", line 169, in reload\n",
      "    _bootstrap._exec(spec, module)\n",
      "  File \"<frozen importlib._bootstrap>\", line 604, in _exec\n",
      "  File \"<frozen importlib._bootstrap_external>\", line 783, in exec_module\n",
      "  File \"<frozen importlib._bootstrap>\", line 219, in _call_with_frames_removed\n",
      "  File \"../science_novelty\\preprocessing.py\", line 116, in <module>\n",
      "    stopwords_nltk = nltk_stopwords.words('english')\n",
      "NameError: name 'nltk_stopwords' is not defined\n",
      "]\n"
     ]
    }
   ],
   "source": [
    "%load_ext autoreload\n",
    "%autoreload 2\n",
    "\n",
    "import sys\n",
    "sys.path.insert(1, '../science_novelty/')\n",
    "\n",
    "import preprocessing\n",
    "from tqdm.notebook import tqdm\n",
    "import csv\n",
    "\n",
    "## Increase the max size of a line reading, otherwise an error is raised\n",
    "maxInt = sys.maxsize\n",
    "\n",
    "while True:\n",
    "    # decrease the maxInt value by factor 10 \n",
    "    # as long as the OverflowError occurs.\n",
    "\n",
    "    try:\n",
    "        csv.field_size_limit(maxInt)\n",
    "        break\n",
    "    except OverflowError:\n",
    "        maxInt = int(maxInt/10)"
   ]
  },
  {
   "cell_type": "code",
   "execution_count": 11,
   "id": "c79e60e6-3cd1-4d6d-b06b-d8aaa7bc1341",
   "metadata": {
    "tags": []
   },
   "outputs": [
    {
     "name": "stderr",
     "output_type": "stream",
     "text": [
      "[nltk_data] Downloading package stopwords to\n",
      "[nltk_data]     C:\\Users\\u0152835\\AppData\\Roaming\\nltk_data...\n",
      "[nltk_data]   Package stopwords is already up-to-date!\n"
     ]
    },
    {
     "name": "stdout",
     "output_type": "stream",
     "text": [
      "Get the number of papers to process...\n",
      "Preparing for writing...\n",
      "Processing...\n"
     ]
    },
    {
     "data": {
      "application/vnd.jupyter.widget-view+json": {
       "model_id": "d00a0cf702fa4e218331851383b7069d",
       "version_major": 2,
       "version_minor": 0
      },
      "text/plain": [
       "  0%|          | 0/90215 [00:00<?, ?it/s]"
      ]
     },
     "metadata": {},
     "output_type": "display_data"
    },
    {
     "ename": "NameError",
     "evalue": "name 'np' is not defined",
     "output_type": "error",
     "traceback": [
      "\u001b[1;31m---------------------------------------------------------------------------\u001b[0m",
      "\u001b[1;31mIndexError\u001b[0m                                Traceback (most recent call last)",
      "File \u001b[1;32mD:\\Users\\Nicola Melluso\\Work\\MAG\\GitHub\\science-novelty\\science_novelty\\preprocessing.py:499\u001b[0m, in \u001b[0;36mprocess_text\u001b[1;34m(text, chunk)\u001b[0m\n\u001b[0;32m    498\u001b[0m \u001b[38;5;28;01mtry\u001b[39;00m:\n\u001b[1;32m--> 499\u001b[0m     \u001b[38;5;28;01mreturn\u001b[39;00m \u001b[43mextract_words\u001b[49m\u001b[43m(\u001b[49m\u001b[43mdoc\u001b[49m\u001b[43m)\u001b[49m\n\u001b[0;32m    500\u001b[0m \u001b[38;5;28;01mexcept\u001b[39;00m \u001b[38;5;167;01mException\u001b[39;00m:\n",
      "File \u001b[1;32mD:\\Users\\Nicola Melluso\\Work\\MAG\\GitHub\\science-novelty\\science_novelty\\preprocessing.py:379\u001b[0m, in \u001b[0;36mextract_words\u001b[1;34m(doc)\u001b[0m\n\u001b[0;32m    378\u001b[0m subwords \u001b[38;5;241m=\u001b[39m token\u001b[38;5;241m.\u001b[39msplit(\u001b[38;5;124m'\u001b[39m\u001b[38;5;124m-\u001b[39m\u001b[38;5;124m'\u001b[39m)\n\u001b[1;32m--> 379\u001b[0m subwords_lemmatized \u001b[38;5;241m=\u001b[39m [nlp(sub)[\u001b[38;5;241m0\u001b[39m]\u001b[38;5;241m.\u001b[39mlemma_ \u001b[38;5;28;01mfor\u001b[39;00m sub \u001b[38;5;129;01min\u001b[39;00m subwords]\n\u001b[0;32m    381\u001b[0m \u001b[38;5;66;03m# If any part of the hyphenated word is a stopword, skip the whole word\u001b[39;00m\n",
      "File \u001b[1;32mD:\\Users\\Nicola Melluso\\Work\\MAG\\GitHub\\science-novelty\\science_novelty\\preprocessing.py:379\u001b[0m, in \u001b[0;36m<listcomp>\u001b[1;34m(.0)\u001b[0m\n\u001b[0;32m    378\u001b[0m subwords \u001b[38;5;241m=\u001b[39m token\u001b[38;5;241m.\u001b[39msplit(\u001b[38;5;124m'\u001b[39m\u001b[38;5;124m-\u001b[39m\u001b[38;5;124m'\u001b[39m)\n\u001b[1;32m--> 379\u001b[0m subwords_lemmatized \u001b[38;5;241m=\u001b[39m [\u001b[43mnlp\u001b[49m\u001b[43m(\u001b[49m\u001b[43msub\u001b[49m\u001b[43m)\u001b[49m\u001b[43m[\u001b[49m\u001b[38;5;241;43m0\u001b[39;49m\u001b[43m]\u001b[49m\u001b[38;5;241m.\u001b[39mlemma_ \u001b[38;5;28;01mfor\u001b[39;00m sub \u001b[38;5;129;01min\u001b[39;00m subwords]\n\u001b[0;32m    381\u001b[0m \u001b[38;5;66;03m# If any part of the hyphenated word is a stopword, skip the whole word\u001b[39;00m\n",
      "File \u001b[1;32m~\\.conda\\envs\\scispacy_processing\\lib\\site-packages\\spacy\\tokens\\doc.pyx:505\u001b[0m, in \u001b[0;36mspacy.tokens.doc.Doc.__getitem__\u001b[1;34m()\u001b[0m\n",
      "File \u001b[1;32m~\\.conda\\envs\\scispacy_processing\\lib\\site-packages\\spacy\\tokens\\token.pxd:25\u001b[0m, in \u001b[0;36mspacy.tokens.token.Token.cinit\u001b[1;34m()\u001b[0m\n",
      "\u001b[1;31mIndexError\u001b[0m: [E040] Attempt to access token at 0, max length 0.",
      "\nDuring handling of the above exception, another exception occurred:\n",
      "\u001b[1;31mNameError\u001b[0m                                 Traceback (most recent call last)",
      "Cell \u001b[1;32mIn[11], line 27\u001b[0m\n\u001b[0;32m     24\u001b[0m paperID, date, title, abstract \u001b[38;5;241m=\u001b[39m line\n\u001b[0;32m     26\u001b[0m title_words \u001b[38;5;241m=\u001b[39m preprocessing\u001b[38;5;241m.\u001b[39mprocess_text(title\u001b[38;5;241m.\u001b[39mlower(), \u001b[38;5;124m'\u001b[39m\u001b[38;5;124mwords\u001b[39m\u001b[38;5;124m'\u001b[39m)\n\u001b[1;32m---> 27\u001b[0m abstract_words \u001b[38;5;241m=\u001b[39m \u001b[43mpreprocessing\u001b[49m\u001b[38;5;241;43m.\u001b[39;49m\u001b[43mprocess_text\u001b[49m\u001b[43m(\u001b[49m\u001b[43mabstract\u001b[49m\u001b[38;5;241;43m.\u001b[39;49m\u001b[43mlower\u001b[49m\u001b[43m(\u001b[49m\u001b[43m)\u001b[49m\u001b[43m,\u001b[49m\u001b[43m \u001b[49m\u001b[38;5;124;43m'\u001b[39;49m\u001b[38;5;124;43mwords\u001b[39;49m\u001b[38;5;124;43m'\u001b[39;49m\u001b[43m)\u001b[49m\n\u001b[0;32m     29\u001b[0m title_phrases \u001b[38;5;241m=\u001b[39m preprocessing\u001b[38;5;241m.\u001b[39mprocess_text(title\u001b[38;5;241m.\u001b[39mlower(), \u001b[38;5;124m'\u001b[39m\u001b[38;5;124mphrases\u001b[39m\u001b[38;5;124m'\u001b[39m)\n\u001b[0;32m     30\u001b[0m abstract_phrases \u001b[38;5;241m=\u001b[39m preprocessing\u001b[38;5;241m.\u001b[39mprocess_text(abstract\u001b[38;5;241m.\u001b[39mlower(), \u001b[38;5;124m'\u001b[39m\u001b[38;5;124mphrases\u001b[39m\u001b[38;5;124m'\u001b[39m)    \n",
      "File \u001b[1;32mD:\\Users\\Nicola Melluso\\Work\\MAG\\GitHub\\science-novelty\\science_novelty\\preprocessing.py:501\u001b[0m, in \u001b[0;36mprocess_text\u001b[1;34m(text, chunk)\u001b[0m\n\u001b[0;32m    499\u001b[0m         \u001b[38;5;28;01mreturn\u001b[39;00m extract_words(doc)\n\u001b[0;32m    500\u001b[0m     \u001b[38;5;28;01mexcept\u001b[39;00m \u001b[38;5;167;01mException\u001b[39;00m:\n\u001b[1;32m--> 501\u001b[0m         \u001b[38;5;28;01mreturn\u001b[39;00m \u001b[43mnp\u001b[49m\u001b[38;5;241m.\u001b[39mnan\n\u001b[0;32m    503\u001b[0m \u001b[38;5;28;01mif\u001b[39;00m chunk \u001b[38;5;241m==\u001b[39m \u001b[38;5;124m'\u001b[39m\u001b[38;5;124mphrases\u001b[39m\u001b[38;5;124m'\u001b[39m:\n\u001b[0;32m    504\u001b[0m     \u001b[38;5;28;01mtry\u001b[39;00m:\n",
      "\u001b[1;31mNameError\u001b[0m: name 'np' is not defined"
     ]
    }
   ],
   "source": [
    "print('Get the number of papers to process...')\n",
    "with open('../data/raw/papers_raw.csv', 'r', encoding = 'utf-8') as file:\n",
    "    line_count = sum(1 for line in file)\n",
    "\n",
    "# Subtract 1 for the header if the CSV has a header\n",
    "total_papers = line_count - 1\n",
    "\n",
    "print('Preparing for writing...')\n",
    "words_writer = open('../data/processed/papers_words.csv', mode = 'w', encoding = 'utf-8')\n",
    "words_writer.write('PaperID,Words_Title,Words_Abstract\\n') # write the first line for the headers\n",
    "\n",
    "phrases_writer = open('../data/processed/papers_phrases.csv', mode = 'w', encoding = 'utf-8')\n",
    "phrases_writer.write('PaperID,Phrases_Title,Phrases_Abstract\\n') # write the first line for the headers\n",
    "\n",
    "print('Processing...')\n",
    "with open('../data/raw/papers_raw.csv', mode = 'r', encoding='utf-8') as reader:\n",
    "    csv_reader = csv.reader(reader, delimiter='\\t', quotechar='\"')\n",
    "    \n",
    "    # Skip header\n",
    "    next(csv_reader)\n",
    "\n",
    "    for line in tqdm(csv_reader, total = total_papers):\n",
    "        \n",
    "        paperID, date, title, abstract = line\n",
    "\n",
    "        title_words = preprocessing.process_text(title.lower(), 'words')\n",
    "        abstract_words = preprocessing.process_text(abstract.lower(), 'words')\n",
    "\n",
    "        title_phrases = preprocessing.process_text(title.lower(), 'phrases')\n",
    "        abstract_phrases = preprocessing.process_text(abstract.lower(), 'phrases')    \n",
    "            \n",
    "        words_writer.write(f'{paperID},{title_words},{abstract_words}\\n')\n",
    "        phrases_writer.write(f'{paperID},{title_phrases},{abstract_phrases}\\n')\n",
    "        "
   ]
  }
 ],
 "metadata": {
  "kernelspec": {
   "display_name": "Python 3 (ipykernel)",
   "language": "python",
   "name": "python3"
  },
  "language_info": {
   "codemirror_mode": {
    "name": "ipython",
    "version": 3
   },
   "file_extension": ".py",
   "mimetype": "text/x-python",
   "name": "python",
   "nbconvert_exporter": "python",
   "pygments_lexer": "ipython3",
   "version": "3.8.5"
  }
 },
 "nbformat": 4,
 "nbformat_minor": 5
}
