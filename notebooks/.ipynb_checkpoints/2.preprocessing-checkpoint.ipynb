{
 "cells": [
  {
   "cell_type": "markdown",
   "id": "51396d66-2ef8-4967-96f0-51a0d277ec16",
   "metadata": {},
   "source": [
    "# Preprocessing\n",
    "\n",
    "## Overview \n",
    "\n",
    "This notebook script is designed for processing a dataset of  papers, extracting, and saving the unigrams, bigrams, and trigrams from the titles and abstracts of each paper. The notebook reads the raw data of papers from a CSV file, processes each paper's title and abstract, and then writes the processed data into separate CSV files for words, bigrams, and trigrams respectively. This process is performed on-the-fly, in which papers are read and processed line-by-line.\n",
    "\n",
    "## Workflow\n",
    "- **Setting Up the Environment**: The script begins by importing necessary libraries and modules. It also adjusts the system’s maximum integer size to avoid errors when reading large lines from the CSV file.\n",
    "\n",
    "- **Counting the Number of Papers**: It calculates the total number of papers to be processed by counting the lines in the raw data CSV file. This is done in order to have a progress bar (tqdm) that estimates the time necessary to process the text.\n",
    "\n",
    "- **Preparing Output Files**: The notebook then prepares three separate CSV files to store the processed unigrams, bigrams, and trigrams. It writes the headers to these files in preparation for data writing.\n",
    "\n",
    "- **Processing Each Paper**: The script reads the raw data CSV file line by line, skipping the header. For each paper’s title and abstract, it performs the following steps:\n",
    "    - Extracts and processes the text to obtain words, bigrams, and trigrams.\n",
    "    - Writes the processed data into the respective CSV files, associating each set of processed data with the paper’s ID.\n",
    "\n",
    "> **Note**: The processing is based on the script imported from `../scripts/preprocessing`.\n",
    "\n",
    "## Output\n",
    "The notebook generates three CSV files as output:\n",
    "\n",
    "- A CSV file containing the words extracted from the titles and abstracts of each paper, associated with the paper’s ID.\n",
    "- A CSV file containing the bigrams extracted from the titles and abstracts of each paper, associated with the paper’s ID.\n",
    "- A CSV file containing the trigrams extracted from the titles and abstracts of each paper, associated with the paper’s ID.\n",
    "\n",
    "Each row in these files corresponds to a paper from the raw data file, and contains the paper’s ID followed by the processed data extracted from the title and abstract. The processed data is stored in a comma-separated format, making it easy to read and analyze in subsequent steps of the data analysis."
   ]
  },
  {
   "cell_type": "code",
   "execution_count": 1,
   "id": "cc9992c9-b8d7-44b7-8e51-dbac788f0eb5",
   "metadata": {},
   "outputs": [
    {
     "name": "stderr",
     "output_type": "stream",
     "text": [
      "C:\\Users\\u0152835\\Anaconda3\\lib\\site-packages\\numpy\\_distributor_init.py:30: UserWarning: loaded more than 1 DLL from .libs:\n",
      "C:\\Users\\u0152835\\Anaconda3\\lib\\site-packages\\numpy\\.libs\\libopenblas.4SP5SUA7CBGXUEOC35YP2ASOICYYEQZZ.gfortran-win_amd64.dll\n",
      "C:\\Users\\u0152835\\Anaconda3\\lib\\site-packages\\numpy\\.libs\\libopenblas64__v0.3.23-246-g3d31191b-gcc_10_3_0.dll\n",
      "  warnings.warn(\"loaded more than 1 DLL from .libs:\"\n"
     ]
    },
    {
     "name": "stdout",
     "output_type": "stream",
     "text": [
      "Reading stopwords...\n"
     ]
    },
    {
     "name": "stderr",
     "output_type": "stream",
     "text": [
      "[nltk_data] Downloading package wordnet to\n",
      "[nltk_data]     C:\\Users\\u0152835\\AppData\\Roaming\\nltk_data...\n",
      "[nltk_data]   Package wordnet is already up-to-date!\n"
     ]
    }
   ],
   "source": [
    "%load_ext autoreload\n",
    "%autoreload 2\n",
    "\n",
    "import sys\n",
    "sys.path.insert(1, '../science_novelty/')\n",
    "\n",
    "import preprocessing\n",
    "from tqdm.notebook import tqdm\n",
    "import csv\n",
    "\n",
    "## Increase the max size of a line reading, otherwise an error is raised\n",
    "maxInt = sys.maxsize\n",
    "\n",
    "while True:\n",
    "    # decrease the maxInt value by factor 10 \n",
    "    # as long as the OverflowError occurs.\n",
    "\n",
    "    try:\n",
    "        csv.field_size_limit(maxInt)\n",
    "        break\n",
    "    except OverflowError:\n",
    "        maxInt = int(maxInt/10)"
   ]
  },
  {
   "cell_type": "code",
   "execution_count": 2,
   "id": "c79e60e6-3cd1-4d6d-b06b-d8aaa7bc1341",
   "metadata": {
    "tags": []
   },
   "outputs": [
    {
     "name": "stdout",
     "output_type": "stream",
     "text": [
      "Get the number of papers to process...\n",
      "Preparing for writing...\n",
      "Processing...\n"
     ]
    },
    {
     "data": {
      "application/vnd.jupyter.widget-view+json": {
       "model_id": "d8ce2919784a4fbda5f43086a9e33f7e",
       "version_major": 2,
       "version_minor": 0
      },
      "text/plain": [
       "  0%|          | 0/3474 [00:00<?, ?it/s]"
      ]
     },
     "metadata": {},
     "output_type": "display_data"
    },
    {
     "ename": "KeyboardInterrupt",
     "evalue": "",
     "output_type": "error",
     "traceback": [
      "\u001b[1;31m---------------------------------------------------------------------------\u001b[0m",
      "\u001b[1;31mKeyboardInterrupt\u001b[0m                         Traceback (most recent call last)",
      "\u001b[1;32m~\\AppData\\Local\\Temp\\9/ipykernel_11992/165244247.py\u001b[0m in \u001b[0;36m<module>\u001b[1;34m\u001b[0m\n\u001b[0;32m     31\u001b[0m \u001b[1;33m\u001b[0m\u001b[0m\n\u001b[0;32m     32\u001b[0m             \u001b[1;31m# preprocess text (either title or abstract)\u001b[0m\u001b[1;33m\u001b[0m\u001b[1;33m\u001b[0m\u001b[0m\n\u001b[1;32m---> 33\u001b[1;33m             \u001b[0munigrams\u001b[0m\u001b[1;33m,\u001b[0m \u001b[0mbigrams\u001b[0m\u001b[1;33m,\u001b[0m \u001b[0mtrigrams\u001b[0m \u001b[1;33m=\u001b[0m \u001b[0mpreprocessing\u001b[0m\u001b[1;33m.\u001b[0m\u001b[0mprocess_text\u001b[0m\u001b[1;33m(\u001b[0m\u001b[0mtext\u001b[0m\u001b[1;33m)\u001b[0m\u001b[1;33m\u001b[0m\u001b[1;33m\u001b[0m\u001b[0m\n\u001b[0m\u001b[0;32m     34\u001b[0m \u001b[1;33m\u001b[0m\u001b[0m\n\u001b[0;32m     35\u001b[0m             \u001b[0mwriting_words\u001b[0m \u001b[1;33m+=\u001b[0m \u001b[1;34m','\u001b[0m \u001b[1;33m+\u001b[0m \u001b[1;34m' '\u001b[0m\u001b[1;33m.\u001b[0m\u001b[0mjoin\u001b[0m\u001b[1;33m(\u001b[0m\u001b[0munigrams\u001b[0m\u001b[1;33m)\u001b[0m\u001b[1;33m\u001b[0m\u001b[1;33m\u001b[0m\u001b[0m\n",
      "\u001b[1;32mD:\\Users\\Nicola Melluso\\Work\\MAG\\GitHub\\science-novelty\\notebooks\\../scripts\\preprocessing.py\u001b[0m in \u001b[0;36mprocess_text\u001b[1;34m(text)\u001b[0m\n\u001b[0;32m     43\u001b[0m \u001b[1;32mdef\u001b[0m \u001b[0mprocess_text\u001b[0m\u001b[1;33m(\u001b[0m\u001b[0mtext\u001b[0m\u001b[1;33m)\u001b[0m\u001b[1;33m:\u001b[0m\u001b[1;33m\u001b[0m\u001b[1;33m\u001b[0m\u001b[0m\n\u001b[0;32m     44\u001b[0m     \u001b[0munigrams\u001b[0m \u001b[1;33m=\u001b[0m \u001b[0mlemmatize\u001b[0m\u001b[1;33m(\u001b[0m\u001b[0mtokenize\u001b[0m\u001b[1;33m(\u001b[0m\u001b[0mtext\u001b[0m\u001b[1;33m)\u001b[0m\u001b[1;33m)\u001b[0m\u001b[1;33m\u001b[0m\u001b[1;33m\u001b[0m\u001b[0m\n\u001b[1;32m---> 45\u001b[1;33m     \u001b[0mremoval_words\u001b[0m \u001b[1;33m=\u001b[0m \u001b[0mget_removal_words\u001b[0m\u001b[1;33m(\u001b[0m\u001b[0munigrams\u001b[0m\u001b[1;33m)\u001b[0m\u001b[1;33m\u001b[0m\u001b[1;33m\u001b[0m\u001b[0m\n\u001b[0m\u001b[0;32m     46\u001b[0m \u001b[1;33m\u001b[0m\u001b[0m\n\u001b[0;32m     47\u001b[0m     \u001b[0mprocessed_unigrams\u001b[0m \u001b[1;33m=\u001b[0m \u001b[1;33m[\u001b[0m\u001b[0mw\u001b[0m \u001b[1;32mfor\u001b[0m \u001b[0mw\u001b[0m \u001b[1;32min\u001b[0m \u001b[0munigrams\u001b[0m \u001b[1;32mif\u001b[0m \u001b[0mw\u001b[0m \u001b[1;32mnot\u001b[0m \u001b[1;32min\u001b[0m \u001b[0mremoval_words\u001b[0m\u001b[1;33m]\u001b[0m\u001b[1;33m\u001b[0m\u001b[1;33m\u001b[0m\u001b[0m\n",
      "\u001b[1;31mKeyboardInterrupt\u001b[0m: "
     ]
    }
   ],
   "source": [
    "print('Get the number of papers to process...')\n",
    "with open('../data/raw/papers_raw.csv', 'r', encoding = 'utf-8') as file:\n",
    "    line_count = sum(1 for line in file)\n",
    "\n",
    "# Subtract 1 for the header if the CSV has a header\n",
    "total_papers = line_count - 1\n",
    "\n",
    "print('Preparing for writing...')\n",
    "words_write = open('../data/processed/papers_words.csv','w')\n",
    "words_write.write('PaperID,Words_Title,Words_Abstract\\n') # write the first line for the headers\n",
    "bigrams_write = open('../data/processed/papers_bigrams.csv','w')\n",
    "bigrams_write.write('PaperID,Bigrams_Title,Bigrams_Abstract\\n') # write the first line for the headers\n",
    "trigrams_write = open('../data/processed/papers_trigrams.csv','w')\n",
    "trigrams_write.write('PaperID,Trigrams_Title,Trigrams_Abstract\\n') # write the first line for the headers\n",
    "\n",
    "print('Processing...')\n",
    "with open('../data/raw/papers_raw.csv', 'r', encoding='utf-8') as reader:\n",
    "    csv_reader = csv.reader(reader, delimiter='\\t', quotechar='\"')\n",
    "    \n",
    "    # Skip header\n",
    "    next(csv_reader)\n",
    "\n",
    "    for line in tqdm(csv_reader, total = total_papers):\n",
    "        \n",
    "        writing_words = line[0] # add the PaperID\n",
    "        writing_bigrams = line[0] # add the PaperID\n",
    "        writing_trigrams = line[0] # add the PaperID\n",
    "        \n",
    "        ## Assuming that the first two columns are the PaperID and the Date\n",
    "        for text in [line[2], line[3]]:  # loop over title and abstract\n",
    "            \n",
    "            # preprocess text (either title or abstract)            \n",
    "            unigrams, bigrams, trigrams = preprocessing.process_text(text)\n",
    "            \n",
    "            writing_words += ',' + ' '.join(unigrams)\n",
    "            writing_bigrams += ',' + ' '.join(bigrams)\n",
    "            writing_trigrams += ',' + ' '.join(trigrams)\n",
    "            \n",
    "        words_write.write(writing_words + '\\n')\n",
    "        bigrams_write.write(writing_bigrams + '\\n')\n",
    "        trigrams_write.write(writing_trigrams + '\\n')\n",
    "            \n",
    "# close the file\n",
    "words_write.close()\n",
    "bigrams_write.close()      \n",
    "trigrams_write.close()"
   ]
  }
 ],
 "metadata": {
  "kernelspec": {
   "display_name": "Python 3 (ipykernel)",
   "language": "python",
   "name": "python3"
  },
  "language_info": {
   "codemirror_mode": {
    "name": "ipython",
    "version": 3
   },
   "file_extension": ".py",
   "mimetype": "text/x-python",
   "name": "python",
   "nbconvert_exporter": "python",
   "pygments_lexer": "ipython3",
   "version": "3.9.7"
  }
 },
 "nbformat": 4,
 "nbformat_minor": 5
}
