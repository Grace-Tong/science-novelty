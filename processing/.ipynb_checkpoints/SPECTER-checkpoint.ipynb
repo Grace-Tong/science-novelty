{
 "cells": [
  {
   "cell_type": "code",
   "execution_count": null,
   "id": "be278f0d-eb13-4b09-afe4-ee8a35755954",
   "metadata": {},
   "outputs": [],
   "source": [
    "! pip install transformers\n",
    "! pip install torch\n",
    "\n",
    "from transformers import AutoTokenizer, AutoModel\n",
    "import torch\n",
    "from scipy.spatial.distance import cosine\n",
    "\n",
    "# Load SPECTER model and tokenizer\n",
    "tokenizer = AutoTokenizer.from_pretrained('allenai/specter')\n",
    "model = AutoModel.from_pretrained('allenai/specter')\n",
    "\n",
    "# Texts for which you want to compute cosine similarity\n",
    "text1 = \"First text here\"\n",
    "text2 = \"Second text here\"\n",
    "\n",
    "# Encode texts\n",
    "inputs1 = tokenizer(text1, padding=True, truncation=True, return_tensors='pt')\n",
    "inputs2 = tokenizer(text2, padding=True, truncation=True, return_tensors='pt')\n",
    "\n",
    "# Compute embeddings\n",
    "with torch.no_grad():\n",
    "    embedding1 = model(**inputs1)['pooler_output']\n",
    "    embedding2 = model(**inputs2)['pooler_output']\n",
    "\n",
    "# Convert tensor to numpy array\n",
    "embedding1 = embedding1.flatten()\n",
    "embedding2 = embedding2.flatten()\n",
    "\n",
    "# Compute cosine similarity\n",
    "similarity = 1 - cosine(embedding1, embedding2)\n",
    "\n",
    "print(f'Cosine similarity between the two texts is {similarity}.')"
   ]
  }
 ],
 "metadata": {
  "kernelspec": {
   "display_name": "Python 3 (ipykernel)",
   "language": "python",
   "name": "python3"
  },
  "language_info": {
   "codemirror_mode": {
    "name": "ipython",
    "version": 3
   },
   "file_extension": ".py",
   "mimetype": "text/x-python",
   "name": "python",
   "nbconvert_exporter": "python",
   "pygments_lexer": "ipython3",
   "version": "3.9.7"
  }
 },
 "nbformat": 4,
 "nbformat_minor": 5
}
