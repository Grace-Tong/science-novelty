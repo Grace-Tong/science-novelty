{
 "cells": [
  {
   "cell_type": "code",
   "execution_count": null,
   "id": "255f42e8-8d46-4ecd-b23d-ba838c31eb3f",
   "metadata": {},
   "outputs": [],
   "source": [
    "# Required Libraries\n",
    "from nltk import ngrams\n",
    "from nltk.tokenize import word_tokenize\n",
    "from nltk.corpus import stopwords\n",
    "from nltk.stem import SnowballStemmer\n",
    "import re\n",
    "import numpy as np\n",
    "import pandas as pd\n",
    "\n",
    "# Getting english stopwords from NLTK library\n",
    "stop_words = set(stopwords.words('english'))\n",
    "\n",
    "# Method to remove special characters\n",
    "def remove_special_characters(text):\n",
    "    pattern=r'[^a-zA-z0-9\\s]'\n",
    "    text=re.sub(pattern,'',text)\n",
    "    return text\n",
    "\n",
    "# Method to tokenize and remove stopwords from the text\n",
    "def tokenize_and_remove_stopwords(text):\n",
    "    text = word_tokenize(remove_special_characters(text))\n",
    "    return ' '.join([word.lower() for word in text if word.lower() not in stop_words])\n",
    "\n",
    "# Function to generate bigrams\n",
    "def generate_bigrams(text):\n",
    "    tokens = word_tokenize(remove_special_characters(text))\n",
    "    tokens = [word.lower() for word in tokens if word.lower() not in stop_words]\n",
    "    bigrams = list(ngrams(tokens, 2))\n",
    "    return ' '.join(['_'.join(bigram) for bigram in bigrams])\n",
    "\n",
    "# Function to generate trigrams\n",
    "def generate_trigrams(text):\n",
    "    tokens = word_tokenize(remove_special_characters(text))\n",
    "    tokens = [word.lower() for word in tokens if word.lower() not in stop_words]\n",
    "    trigrams = list(ngrams(tokens, 3))\n",
    "    return ' '.join(['_'.join(trigram) for trigram in trigrams])\n",
    "\n",
    "# Preprocess method which calls the above methods and returns cleaned text, bigrams and trigrams\n",
    "def preprocess_nltk(df):\n",
    "    df = df.copy()\n",
    "    \n",
    "    df['cleaned_title'] = df['PaperTitle'].map(tokenize_and_remove_stopwords)\n",
    "    df['title_bigrams'] = df['PaperTitle'].map(generate_bigrams)\n",
    "    df['title_trigrams'] = df['PaperTitle'].map(generate_trigrams)\n",
    "    \n",
    "    df['cleaned_abstract'] = df['Abstract'].map(lambda x: tokenize_and_remove_stopwords(x) if pd.notnull(x) else np.nan)\n",
    "    df['abstract_bigrams'] = df['Abstract'].map(lambda x: generate_bigrams(x) if pd.notnull(x) else np.nan)\n",
    "    df['abstract_trigrams'] = df['Abstract'].map(lambda x: generate_trigrams(x) if pd.notnull(x) else np.nan)\n",
    "    \n",
    "    return df"
   ]
  }
 ],
 "metadata": {
  "kernelspec": {
   "display_name": "Python 3 (ipykernel)",
   "language": "python",
   "name": "python3"
  },
  "language_info": {
   "codemirror_mode": {
    "name": "ipython",
    "version": 3
   },
   "file_extension": ".py",
   "mimetype": "text/x-python",
   "name": "python",
   "nbconvert_exporter": "python",
   "pygments_lexer": "ipython3",
   "version": "3.9.7"
  }
 },
 "nbformat": 4,
 "nbformat_minor": 5
}
