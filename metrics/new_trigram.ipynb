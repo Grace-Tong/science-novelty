{
 "cells": [
  {
   "cell_type": "code",
   "execution_count": 1,
   "id": "b86ff862-a28e-45ac-a98c-3e74f9935131",
   "metadata": {},
   "outputs": [
    {
     "data": {
      "application/vnd.jupyter.widget-view+json": {
       "model_id": "6944737cc9ad4a0fa206ea06408dda4e",
       "version_major": 2,
       "version_minor": 0
      },
      "text/plain": [
       "0it [00:00, ?it/s]"
      ]
     },
     "metadata": {},
     "output_type": "display_data"
    }
   ],
   "source": [
    "import os\n",
    "import pandas as pd\n",
    "from tqdm.notebook import tqdm\n",
    "tqdm().pandas()\n",
    "import numpy as np\n",
    "\n",
    "from collections import Counter\n",
    "\n",
    "from sklearn.metrics.pairwise import cosine_similarity\n",
    "\n",
    "path = 'D:/Users/Nicola Melluso/ScientificPublications/'\n",
    "path_vectors = path + 'Papers/TitleAbstract/papers_vectors/'\n",
    "\n",
    "path_processed = path + 'PapersProcessed/'\n",
    "\n",
    "gram = 'trigrams'"
   ]
  },
  {
   "cell_type": "markdown",
   "id": "712052ff-7ac7-4acf-b21b-571a3d9f5261",
   "metadata": {},
   "source": [
    "## ************** "
   ]
  },
  {
   "cell_type": "markdown",
   "id": "b58b2bf5-49ab-4b7f-9068-58361dfcb37f",
   "metadata": {},
   "source": [
    "## Preliminaries"
   ]
  },
  {
   "cell_type": "markdown",
   "id": "ff465883-9c9d-4f9d-8f16-79e20f262998",
   "metadata": {},
   "source": [
    "### 1. Papers to be done"
   ]
  },
  {
   "cell_type": "code",
   "execution_count": 2,
   "id": "c150d52f-25e4-4dba-99af-4dbe285ce90f",
   "metadata": {
    "tags": []
   },
   "outputs": [
    {
     "data": {
      "application/vnd.jupyter.widget-view+json": {
       "model_id": "0a09822af547485aa76cda20dc09a01f",
       "version_major": 2,
       "version_minor": 0
      },
      "text/plain": [
       "  0%|          | 0/72245396 [00:00<?, ?it/s]"
      ]
     },
     "metadata": {},
     "output_type": "display_data"
    },
    {
     "data": {
      "application/vnd.jupyter.widget-view+json": {
       "model_id": "4a88339be6bd4868a3a829407b3ada59",
       "version_major": 2,
       "version_minor": 0
      },
      "text/plain": [
       "  0%|          | 0/33536292 [00:00<?, ?it/s]"
      ]
     },
     "metadata": {},
     "output_type": "display_data"
    }
   ],
   "source": [
    "reader = open('./data/paperIds.txt','r')\n",
    "paperIds = set()\n",
    "\n",
    "for line in tqdm(reader,total = 72245396):\n",
    "    paperIds.add(int(line.replace('\\n','')))\n",
    "    \n",
    "\n",
    "reader = open('./data/paperIdsNov.txt','r')\n",
    "paperIdsNov = set()\n",
    "\n",
    "for line in tqdm(reader,total = 33536292):\n",
    "    paperIdsNov.add(int(line.replace('\\n','')))"
   ]
  },
  {
   "cell_type": "markdown",
   "id": "b9c594db-8fd1-4d86-9efa-14713c77c9c4",
   "metadata": {
    "tags": []
   },
   "source": [
    "### 2. Gram to idx "
   ]
  },
  {
   "cell_type": "code",
   "execution_count": 3,
   "id": "9c68c29b-fbf0-4433-b7af-6d97d9b95eff",
   "metadata": {
    "tags": []
   },
   "outputs": [
    {
     "data": {
      "application/vnd.jupyter.widget-view+json": {
       "model_id": "4dd83d0521744cf9a4d8616bd17a5c96",
       "version_major": 2,
       "version_minor": 0
      },
      "text/plain": [
       "0it [00:00, ?it/s]"
      ]
     },
     "metadata": {},
     "output_type": "display_data"
    }
   ],
   "source": [
    "reader = open('./data/%s_to_idx.csv'%(gram.split('_')[0]),'r', encoding=\"utf-8\")\n",
    "reader.__next__()\n",
    "\n",
    "gram_to_idx = {}\n",
    "\n",
    "for line in tqdm(reader):\n",
    "    \n",
    "    if ',' not in line:\n",
    "        continue\n",
    "        \n",
    "    line = line.split(',')\n",
    "    gram_to_idx[line[0]] = int(line[1].replace('\\n',''))"
   ]
  },
  {
   "cell_type": "markdown",
   "id": "0759d152-1ce3-44fe-95ce-a61a8ad7794e",
   "metadata": {},
   "source": [
    "### 3. Core analysis"
   ]
  },
  {
   "cell_type": "code",
   "execution_count": 4,
   "id": "fe1476dc-8851-4768-b266-820a01fff2cf",
   "metadata": {
    "tags": []
   },
   "outputs": [
    {
     "name": "stdout",
     "output_type": "stream",
     "text": [
      "Reading baseline...\n"
     ]
    },
    {
     "data": {
      "application/vnd.jupyter.widget-view+json": {
       "model_id": "b2edb643fce94daf92ee8d1763d12065",
       "version_major": 2,
       "version_minor": 0
      },
      "text/plain": [
       "0it [00:00, ?it/s]"
      ]
     },
     "metadata": {},
     "output_type": "display_data"
    },
    {
     "name": "stdout",
     "output_type": "stream",
     "text": [
      "Analysis...\n"
     ]
    },
    {
     "data": {
      "application/vnd.jupyter.widget-view+json": {
       "model_id": "c24f6bde6e5743dfa73f1780d4b9c427",
       "version_major": 2,
       "version_minor": 0
      },
      "text/plain": [
       "  0%|          | 0/103061513 [00:00<?, ?it/s]"
      ]
     },
     "metadata": {},
     "output_type": "display_data"
    },
    {
     "name": "stdout",
     "output_type": "stream",
     "text": [
      "Exporting the counter...\n"
     ]
    },
    {
     "data": {
      "application/vnd.jupyter.widget-view+json": {
       "model_id": "5b827c578d0c4482a33bfc5d9efe9425",
       "version_major": 2,
       "version_minor": 0
      },
      "text/plain": [
       "  0%|          | 0/6140337 [00:00<?, ?it/s]"
      ]
     },
     "metadata": {},
     "output_type": "display_data"
    }
   ],
   "source": [
    "print('Reading baseline...')\n",
    "baseline = set()\n",
    "\n",
    "reader = open(path_processed + '%s_baseline.txt'%(gram),'r', encoding=\"utf-8\")\n",
    "\n",
    "for line in tqdm(reader):\n",
    "    \n",
    "    t = gram_to_idx.get(line.replace('\\n',''))\n",
    "    if t is not None:\n",
    "        baseline.add(t)\n",
    "        \n",
    "print('Analysis...')\n",
    "\n",
    "reader = open(path_processed + '%s.csv'%(gram.split('_')[0]),'r', encoding=\"utf-8\")\n",
    "reader.__next__()\n",
    "\n",
    "writer = open('./data/new_%s/new_%s_paperId.csv'%(gram,gram),'w', encoding=\"utf-8\")\n",
    "writer.write('gram_idx,PaperId\\n')\n",
    "\n",
    "counter = Counter()\n",
    "\n",
    "for line in tqdm(reader, total = 103061513):\n",
    "    \n",
    "    line = line.split('\\t')\n",
    "    \n",
    "    paperId = int(line[0])\n",
    "    \n",
    "    if paperId not in paperIds:\n",
    "        continue\n",
    "                \n",
    "    text = set(' '.join(line[1:]).split(' '))\n",
    "    #text = set(line[1].split(' '))\n",
    "    text = [gram_to_idx.get(t) for t in text]\n",
    "    text = [t for t in text if ((t is not None) & (t not in baseline))]\n",
    "    \n",
    "    for token in text:\n",
    "        if token not in counter:\n",
    "            if paperId not in paperIdsNov:\n",
    "                continue\n",
    "            \n",
    "            counter[token] = 0\n",
    "            \n",
    "            ## write the PaperId\n",
    "            writer.write(','.join([\n",
    "                str(i) for i in [\n",
    "                    token,\n",
    "                    paperId\n",
    "                ]\n",
    "            ]) + '\\n')\n",
    "        else:\n",
    "            counter[token] += 1\n",
    "    \n",
    "print('Exporting the counter...')\n",
    "writer = open('./data/new_%s/new_%s_reuse.csv'%(gram,gram),'w', encoding=\"utf-8\")\n",
    "writer.write('gram_idx,reuse\\n')\n",
    "\n",
    "for token,reuse in tqdm(counter.items(), total = len(counter)):\n",
    "    writer.write(','.join([\n",
    "                str(i) for i in [\n",
    "                    token,\n",
    "                    reuse\n",
    "                ]\n",
    "            ]) + '\\n')"
   ]
  },
  {
   "cell_type": "markdown",
   "id": "795df3a9-ba49-47f0-9e73-9153bb5165cf",
   "metadata": {},
   "source": [
    "## 2. Adjust non-doi and citations minimum count "
   ]
  },
  {
   "cell_type": "markdown",
   "id": "7626e6b9-d4d0-4052-9b3d-645660bd60d1",
   "metadata": {},
   "source": [
    "#### Read grams with only reuse < 5 "
   ]
  },
  {
   "cell_type": "code",
   "execution_count": 5,
   "id": "87f89a58-6a48-4b7b-b3d1-6f3bfeac0dc5",
   "metadata": {},
   "outputs": [
    {
     "data": {
      "application/vnd.jupyter.widget-view+json": {
       "model_id": "661d9aa8ddf5450f970dcc8e5ba41d85",
       "version_major": 2,
       "version_minor": 0
      },
      "text/plain": [
       "0it [00:00, ?it/s]"
      ]
     },
     "metadata": {},
     "output_type": "display_data"
    }
   ],
   "source": [
    "counter = set()\n",
    "tokens = set()\n",
    "\n",
    "reader = open('./data/new_%s/new_%s_reuse.csv'%(gram,gram),'r', encoding=\"utf-8\")\n",
    "reader.__next__()\n",
    "\n",
    "for line in tqdm(reader):\n",
    "    line = line.split(',')\n",
    "    \n",
    "    reuse = int(line[1].replace('\\n',''))\n",
    "    \n",
    "    if reuse <= 5:\n",
    "        continue\n",
    "        \n",
    "    token = int(line[0])\n",
    "    \n",
    "    tokens.add(token)"
   ]
  },
  {
   "cell_type": "markdown",
   "id": "2ebfb4b9-41cf-4bf1-a3aa-f42555573531",
   "metadata": {},
   "source": [
    "`tokens` contains all tokens with reuse > 5."
   ]
  },
  {
   "cell_type": "markdown",
   "id": "628b5975-443e-4e3c-9377-0c1c8139363c",
   "metadata": {},
   "source": [
    "### Re-do analysis \n",
    "\n",
    "Create a new file `new_gram_PaperId_DC.csv` with the real PaperIds."
   ]
  },
  {
   "cell_type": "code",
   "execution_count": 6,
   "id": "38f7f2ca-065e-49c0-8774-cb428e9ac9df",
   "metadata": {
    "tags": []
   },
   "outputs": [
    {
     "name": "stdout",
     "output_type": "stream",
     "text": [
      "Reading baseline...\n"
     ]
    },
    {
     "data": {
      "application/vnd.jupyter.widget-view+json": {
       "model_id": "38f64df37ea14d42b91394e862f19761",
       "version_major": 2,
       "version_minor": 0
      },
      "text/plain": [
       "0it [00:00, ?it/s]"
      ]
     },
     "metadata": {},
     "output_type": "display_data"
    },
    {
     "name": "stdout",
     "output_type": "stream",
     "text": [
      "Analysis...\n"
     ]
    },
    {
     "data": {
      "application/vnd.jupyter.widget-view+json": {
       "model_id": "f2acbff344564a0f87f31ec950b56be8",
       "version_major": 2,
       "version_minor": 0
      },
      "text/plain": [
       "  0%|          | 0/103061513 [00:00<?, ?it/s]"
      ]
     },
     "metadata": {},
     "output_type": "display_data"
    },
    {
     "name": "stdout",
     "output_type": "stream",
     "text": [
      "Exporting the counter...\n"
     ]
    },
    {
     "data": {
      "application/vnd.jupyter.widget-view+json": {
       "model_id": "0b911e832fb54b009a6dee7b67d0e3e7",
       "version_major": 2,
       "version_minor": 0
      },
      "text/plain": [
       "  0%|          | 0/4118839 [00:00<?, ?it/s]"
      ]
     },
     "metadata": {},
     "output_type": "display_data"
    }
   ],
   "source": [
    "print('Reading baseline...')\n",
    "baseline = set()\n",
    "dones = set()\n",
    "counter = Counter()\n",
    "\n",
    "reader = open(path_processed + '%s_baseline.txt'%(gram),'r', encoding=\"utf-8\")\n",
    "\n",
    "for line in tqdm(reader):\n",
    "    \n",
    "    t = gram_to_idx.get(line.replace('\\n',''))\n",
    "    if t is not None:\n",
    "        baseline.add(t)\n",
    "        \n",
    "print('Analysis...')\n",
    "\n",
    "reader = open(path_processed + '%s.csv'%(gram.split('_')[0]),'r', encoding=\"utf-8\")\n",
    "reader.__next__()\n",
    "\n",
    "writer = open('./data/new_%s/new_%s_paperId_DC.csv'%(gram,gram),'w', encoding=\"utf-8\")\n",
    "writer.write('gram_idx,PaperId\\n')\n",
    "\n",
    "\n",
    "for line in tqdm(reader, total = 103061513):\n",
    "    \n",
    "    line = line.split('\\t')\n",
    "    \n",
    "    paperId = int(line[0])\n",
    "    \n",
    "    if paperId not in paperIds:\n",
    "        continue\n",
    "                \n",
    "    text = set(' '.join(line[1:]).split(' '))\n",
    "    #text = set(line[1].split(' '))\n",
    "    text = [gram_to_idx.get(t) for t in text]\n",
    "    text = [t for t in text if ((t is not None) & (t not in baseline))]\n",
    "    \n",
    "    for token in text:\n",
    "        if token not in tokens:\n",
    "            if token not in counter:\n",
    "            \n",
    "                ## write the PaperId real\n",
    "                writer.write(','.join([\n",
    "                    str(i) for i in [\n",
    "                        token,\n",
    "                        paperId\n",
    "                    ]\n",
    "                ]) + '\\n')\n",
    "                \n",
    "                counter[token] = 0\n",
    "            else:\n",
    "                counter[token] += 1\n",
    "\n",
    "writer.close()\n",
    "reader.close()\n",
    "\n",
    "\n",
    "print('Exporting the counter...')\n",
    "writer = open('./data/new_%s/new_%s_reuse_DC.csv'%(gram,gram),'w', encoding=\"utf-8\")\n",
    "writer.write('gram_idx,reuse\\n')\n",
    "\n",
    "for token,reuse in tqdm(counter.items(), total = len(counter)):\n",
    "    writer.write(','.join([\n",
    "                str(i) for i in [\n",
    "                    token,\n",
    "                    reuse\n",
    "                ]\n",
    "            ]) + '\\n')\n",
    "    \n",
    "writer.close()\n"
   ]
  },
  {
   "cell_type": "markdown",
   "id": "d2bfeb08-7ca6-4104-b164-070722a6e5a7",
   "metadata": {},
   "source": [
    "# ********* Re-start kernel ********** "
   ]
  },
  {
   "cell_type": "markdown",
   "id": "9becb719-d145-48ce-9e28-8272238958be",
   "metadata": {},
   "source": [
    "# Aggregations \n",
    "### To execute after the counter"
   ]
  },
  {
   "cell_type": "markdown",
   "id": "e8f2d722-592a-4145-88a2-1f849abd66d7",
   "metadata": {},
   "source": [
    "Chunking strategy "
   ]
  },
  {
   "cell_type": "code",
   "execution_count": 2,
   "id": "b02ec349-04aa-40bf-8653-b98f1d12c47f",
   "metadata": {},
   "outputs": [
    {
     "data": {
      "application/vnd.jupyter.widget-view+json": {
       "model_id": "cbdc1371d72b4bdbbd8514b431bbba7e",
       "version_major": 2,
       "version_minor": 0
      },
      "text/plain": [
       "0it [00:00, ?it/s]"
      ]
     },
     "metadata": {},
     "output_type": "display_data"
    }
   ],
   "source": [
    "reader = open('./data/%s_to_idx.csv'%(gram.replace('_title','')),'r', encoding=\"utf-8\")\n",
    "reader.__next__()\n",
    "\n",
    "idx_to_gram = {}\n",
    "\n",
    "for line in tqdm(reader):\n",
    "    \n",
    "    if ',' not in line:\n",
    "        continue\n",
    "        \n",
    "    line = line.split(',')\n",
    "    idx_to_gram[int(line[1].replace('\\n',''))] = line[0]"
   ]
  },
  {
   "cell_type": "code",
   "execution_count": 3,
   "id": "9557d15f-f513-4a22-9026-a031c765e143",
   "metadata": {
    "tags": []
   },
   "outputs": [
    {
     "name": "stdout",
     "output_type": "stream",
     "text": [
      "First iterate over all...\n"
     ]
    },
    {
     "data": {
      "application/vnd.jupyter.widget-view+json": {
       "model_id": "417c473f92f045f88817b7766c3785e3",
       "version_major": 2,
       "version_minor": 0
      },
      "text/plain": [
       "0it [00:00, ?it/s]"
      ]
     },
     "metadata": {},
     "output_type": "display_data"
    },
    {
     "name": "stdout",
     "output_type": "stream",
     "text": [
      "Second iterate over non-DOI and citation minimum...\n"
     ]
    },
    {
     "data": {
      "application/vnd.jupyter.widget-view+json": {
       "model_id": "6f4c5d2e03824540a920b967e6d2e9ec",
       "version_major": 2,
       "version_minor": 0
      },
      "text/plain": [
       "0it [00:00, ?it/s]"
      ]
     },
     "metadata": {},
     "output_type": "display_data"
    }
   ],
   "source": [
    "chunksize = 500000\n",
    "\n",
    "ds_paperId = pd.read_csv('./data/new_%s/new_%s_paperId.csv'%(gram,gram), chunksize = chunksize, converters = {'PaperId':int,'gram_idx':int}, encoding=\"utf-8\")\n",
    "\n",
    "writer = open('./data/new_%s/new_%s.csv'%(gram,gram),'w', encoding=\"utf-8\")\n",
    "writer.write('%s,PaperId,reuse\\n'%(gram))\n",
    "writer.close()\n",
    "\n",
    "\n",
    "print('First iterate over all...')\n",
    "# iterate over paperIds\n",
    "for df_paperId in tqdm(ds_paperId):\n",
    "    \n",
    "    \n",
    "    to_do_ids = list(df_paperId['PaperId'].unique())\n",
    "    \n",
    "    if to_do_ids == set():\n",
    "        continue\n",
    "\n",
    "    ds_reuse = pd.read_csv('./data/new_%s/new_%s_reuse.csv'%(gram,gram), chunksize = chunksize, converters = {'PaperId':int,'gram_idx':int}, encoding=\"utf-8\")\n",
    "\n",
    "    for df_reuse in ds_reuse:\n",
    "        \n",
    "        df_reuse = df_reuse[df_reuse['reuse'] > 5]\n",
    "        \n",
    "        df = pd.merge(df_paperId,df_reuse, on = 'gram_idx')\n",
    "                    \n",
    "        if df.empty:\n",
    "            continue\n",
    "\n",
    "        df[gram] = df['gram_idx'].apply(lambda x: idx_to_gram.get(x))\n",
    "        df = df[[gram,'PaperId','reuse']]\n",
    "        df.to_csv('./data/new_%s/new_%s.csv'%(gram,gram), mode = 'a', header = False, index = False)\n",
    "        \n",
    "        dones_ids = set(df['PaperId'].unique())\n",
    "        \n",
    "        to_do_ids = to_do_ids - dones_ids\n",
    "        \n",
    "        if to_do_ids == set():\n",
    "            break\n",
    "\n",
    "    \n",
    "print('Second iterate over non-DOI and citation minimum...')\n",
    "\n",
    "ds_paperId_DC = pd.read_csv('./data/new_%s/new_%s_paperId_DC.csv'%(gram,gram), chunksize = chunksize, converters = {'PaperId':int,'gram_idx':int},  encoding=\"utf-8\")\n",
    "\n",
    "for df_paperId_DC in tqdm(ds_paperId_DC):\n",
    "    \n",
    "    to_do_ids = list(df_paperId_DC['PaperId'].unique())\n",
    "    \n",
    "    if to_do_ids == set():\n",
    "        continue\n",
    "\n",
    "    ds_reuse = pd.read_csv('./data/new_%s/new_%s_reuse_DC.csv'%(gram,gram), chunksize = chunksize, converters = {'PaperId':int,'gram_idx':int}, encoding=\"utf-8\")\n",
    "\n",
    "    for df_reuse in ds_reuse:\n",
    "        \n",
    "        df_reuse = df_reuse[df_reuse['reuse'] > 0]\n",
    "        \n",
    "        df = pd.merge(df_paperId_DC,df_reuse, on = 'gram_idx')\n",
    "        \n",
    "        \n",
    "        if df.empty:\n",
    "            continue\n",
    "        \n",
    "        df[gram] = df['gram_idx'].apply(lambda x: idx_to_gram.get(x))\n",
    "        df = df[[gram,'PaperId','reuse']]\n",
    "        df.to_csv('./data/new_%s/new_%s.csv'%(gram,gram), mode = 'a', header = False, index = False)  \n",
    "        \n",
    "        dones_ids = set(df['PaperId'].unique())\n",
    "        \n",
    "        to_do_ids = to_do_ids - dones_ids\n",
    "        \n",
    "        if to_do_ids == set():\n",
    "            break\n",
    "\n"
   ]
  },
  {
   "cell_type": "markdown",
   "id": "93f77185-0584-4def-9285-704f4e5ffeb8",
   "metadata": {},
   "source": [
    "### Memory intensive "
   ]
  },
  {
   "cell_type": "code",
   "execution_count": 4,
   "id": "0c131913-6a3e-422f-9bea-35a9ba74c780",
   "metadata": {},
   "outputs": [
    {
     "name": "stdout",
     "output_type": "stream",
     "text": [
      "First iteration...\n",
      "\tReading combs reuse...\n",
      "\tReading combs paperId...\n",
      "\tConverting PaperId...\n",
      "\tMerging...\n",
      "\tConverting grams...\n",
      "\tExporting...\n",
      "Second iteration...\n",
      "\tReading combs reuse...\n",
      "\tReading combs paperId...\n",
      "\tConverting PaperId...\n",
      "\tMerging...\n",
      "\tConverting grams...\n",
      "\tExporting...\n"
     ]
    }
   ],
   "source": [
    "gram_label = 'trigrams'\n",
    "gram = 'trigrams'\n",
    "\n",
    "print('First iteration...')\n",
    "\n",
    "print('\\tReading combs reuse...')\n",
    "df_reuse = pd.read_csv('./data/new_%s/new_%s_reuse.csv'%(gram,gram), converters={'PaperId': int, 'gram_idx':int,'reuse': int},  encoding=\"utf-8\")\n",
    "df_reuse = df_reuse[df_reuse['reuse'] > 5]\n",
    "\n",
    "print('\\tReading combs paperId...')\n",
    "df_paperId = pd.read_csv('./data/new_%s/new_%s_paperId.csv'%(gram,gram), converters = {'PaperId':int, 'gram_idx':int},  encoding=\"utf-8\")\n",
    "print('\\tConverting PaperId...')\n",
    "\n",
    "print('\\tMerging...')\n",
    "df = pd.merge(df_paperId,df_reuse, on = ['gram_idx'])\n",
    "\n",
    "print('\\tConverting grams...')\n",
    "df[gram] = df['gram_idx'].apply(lambda x: idx_to_gram.get(x))\n",
    "\n",
    "df = df[[gram,'PaperId','reuse']]\n",
    "\n",
    "print('\\tExporting...')\n",
    "df.to_csv('./data/new_%s/new_%s.csv'%(gram,gram), index = False)\n",
    "\n",
    "\n",
    "print('Second iteration...')\n",
    "\n",
    "print('\\tReading combs reuse...')\n",
    "df_reuse = pd.read_csv('./data/new_%s/new_%s_reuse_DC.csv'%(gram,gram), converters={'PaperId': int, 'gram_idx':int,'reuse': int},  encoding=\"utf-8\")\n",
    "df_reuse = df_reuse[df_reuse['reuse'] > 0]\n",
    "\n",
    "print('\\tReading combs paperId...')\n",
    "df_paperId = pd.read_csv('./data/new_%s/new_%s_paperId_DC.csv'%(gram,gram), converters = {'PaperId':int, 'gram_idx':int},  encoding=\"utf-8\")\n",
    "print('\\tConverting PaperId...')\n",
    "\n",
    "print('\\tMerging...')\n",
    "df = pd.merge(df_paperId,df_reuse, on = ['gram_idx'])\n",
    "\n",
    "print('\\tConverting grams...')\n",
    "df[gram] = df['gram_idx'].apply(lambda x: idx_to_gram.get(x))\n",
    "\n",
    "df = df[[gram,'PaperId','reuse']]\n",
    "\n",
    "print('\\tExporting...')\n",
    "df.to_csv('./data/new_%s/new_%s.csv'%(gram,gram), mode = 'a', header = False, index = False)\n"
   ]
  },
  {
   "cell_type": "code",
   "execution_count": 6,
   "id": "e075e1b8-237a-4f2b-9f22-85f7673f5454",
   "metadata": {},
   "outputs": [
    {
     "data": {
      "text/html": [
       "<div>\n",
       "<style scoped>\n",
       "    .dataframe tbody tr th:only-of-type {\n",
       "        vertical-align: middle;\n",
       "    }\n",
       "\n",
       "    .dataframe tbody tr th {\n",
       "        vertical-align: top;\n",
       "    }\n",
       "\n",
       "    .dataframe thead th {\n",
       "        text-align: right;\n",
       "    }\n",
       "</style>\n",
       "<table border=\"1\" class=\"dataframe\">\n",
       "  <thead>\n",
       "    <tr style=\"text-align: right;\">\n",
       "      <th></th>\n",
       "      <th>trigrams</th>\n",
       "      <th>PaperId</th>\n",
       "      <th>reuse</th>\n",
       "    </tr>\n",
       "  </thead>\n",
       "  <tbody>\n",
       "    <tr>\n",
       "      <th>961665</th>\n",
       "      <td>quality_of_life</td>\n",
       "      <td>2215226054</td>\n",
       "      <td>346190</td>\n",
       "    </tr>\n",
       "    <tr>\n",
       "      <th>1256843</th>\n",
       "      <td>scanning_electron_microscopy</td>\n",
       "      <td>2058151030</td>\n",
       "      <td>269631</td>\n",
       "    </tr>\n",
       "    <tr>\n",
       "      <th>1657731</th>\n",
       "      <td>magnetic_resonance_imaging</td>\n",
       "      <td>69299825</td>\n",
       "      <td>250121</td>\n",
       "    </tr>\n",
       "    <tr>\n",
       "      <th>616325</th>\n",
       "      <td>transmission_electron_microscopy</td>\n",
       "      <td>1973732174</td>\n",
       "      <td>231922</td>\n",
       "    </tr>\n",
       "    <tr>\n",
       "      <th>4887036</th>\n",
       "      <td>polymerase_chain_reaction</td>\n",
       "      <td>2148312059</td>\n",
       "      <td>209968</td>\n",
       "    </tr>\n",
       "    <tr>\n",
       "      <th>...</th>\n",
       "      <td>...</td>\n",
       "      <td>...</td>\n",
       "      <td>...</td>\n",
       "    </tr>\n",
       "    <tr>\n",
       "      <th>43367846</th>\n",
       "      <td>time_to_comp</td>\n",
       "      <td>2034131755</td>\n",
       "      <td>1</td>\n",
       "    </tr>\n",
       "    <tr>\n",
       "      <th>43367849</th>\n",
       "      <td>arithmetic_and_orthogonal</td>\n",
       "      <td>2098195831</td>\n",
       "      <td>1</td>\n",
       "    </tr>\n",
       "    <tr>\n",
       "      <th>43367855</th>\n",
       "      <td>defend_the_sort</td>\n",
       "      <td>2142018294</td>\n",
       "      <td>1</td>\n",
       "    </tr>\n",
       "    <tr>\n",
       "      <th>43367856</th>\n",
       "      <td>reduce_chemical_control</td>\n",
       "      <td>2012308680</td>\n",
       "      <td>1</td>\n",
       "    </tr>\n",
       "    <tr>\n",
       "      <th>75573270</th>\n",
       "      <td>marine_tourism_site</td>\n",
       "      <td>3113807299</td>\n",
       "      <td>1</td>\n",
       "    </tr>\n",
       "  </tbody>\n",
       "</table>\n",
       "<p>75573271 rows × 3 columns</p>\n",
       "</div>"
      ],
      "text/plain": [
       "                                  trigrams     PaperId   reuse\n",
       "961665                     quality_of_life  2215226054  346190\n",
       "1256843       scanning_electron_microscopy  2058151030  269631\n",
       "1657731         magnetic_resonance_imaging    69299825  250121\n",
       "616325    transmission_electron_microscopy  1973732174  231922\n",
       "4887036          polymerase_chain_reaction  2148312059  209968\n",
       "...                                    ...         ...     ...\n",
       "43367846                      time_to_comp  2034131755       1\n",
       "43367849         arithmetic_and_orthogonal  2098195831       1\n",
       "43367855                   defend_the_sort  2142018294       1\n",
       "43367856           reduce_chemical_control  2012308680       1\n",
       "75573270               marine_tourism_site  3113807299       1\n",
       "\n",
       "[75573271 rows x 3 columns]"
      ]
     },
     "execution_count": 6,
     "metadata": {},
     "output_type": "execute_result"
    }
   ],
   "source": [
    "df = pd.read_csv('./data/new_%s/new_%s.csv'%(gram,gram))\n",
    "df = df.sort_values(by = 'reuse', ascending = False)\n",
    "df"
   ]
  },
  {
   "cell_type": "code",
   "execution_count": 9,
   "id": "3b51ab4c-a6ee-44c9-8e70-2fb2b413a5dc",
   "metadata": {},
   "outputs": [
    {
     "data": {
      "text/html": [
       "<div>\n",
       "<style scoped>\n",
       "    .dataframe tbody tr th:only-of-type {\n",
       "        vertical-align: middle;\n",
       "    }\n",
       "\n",
       "    .dataframe tbody tr th {\n",
       "        vertical-align: top;\n",
       "    }\n",
       "\n",
       "    .dataframe thead th {\n",
       "        text-align: right;\n",
       "    }\n",
       "</style>\n",
       "<table border=\"1\" class=\"dataframe\">\n",
       "  <thead>\n",
       "    <tr style=\"text-align: right;\">\n",
       "      <th></th>\n",
       "      <th>trigrams</th>\n",
       "      <th>PaperId</th>\n",
       "      <th>reuse</th>\n",
       "    </tr>\n",
       "  </thead>\n",
       "  <tbody>\n",
       "    <tr>\n",
       "      <th>961665</th>\n",
       "      <td>quality_of_life</td>\n",
       "      <td>2215226054</td>\n",
       "      <td>346190</td>\n",
       "    </tr>\n",
       "    <tr>\n",
       "      <th>1256843</th>\n",
       "      <td>scanning_electron_microscopy</td>\n",
       "      <td>2058151030</td>\n",
       "      <td>269631</td>\n",
       "    </tr>\n",
       "    <tr>\n",
       "      <th>1657731</th>\n",
       "      <td>magnetic_resonance_imaging</td>\n",
       "      <td>69299825</td>\n",
       "      <td>250121</td>\n",
       "    </tr>\n",
       "    <tr>\n",
       "      <th>616325</th>\n",
       "      <td>transmission_electron_microscopy</td>\n",
       "      <td>1973732174</td>\n",
       "      <td>231922</td>\n",
       "    </tr>\n",
       "    <tr>\n",
       "      <th>4887036</th>\n",
       "      <td>polymerase_chain_reaction</td>\n",
       "      <td>2148312059</td>\n",
       "      <td>209968</td>\n",
       "    </tr>\n",
       "    <tr>\n",
       "      <th>2074922</th>\n",
       "      <td>randomize_controlled_trial</td>\n",
       "      <td>2004769130</td>\n",
       "      <td>123107</td>\n",
       "    </tr>\n",
       "    <tr>\n",
       "      <th>239290</th>\n",
       "      <td>compare_to_control</td>\n",
       "      <td>2321278216</td>\n",
       "      <td>115503</td>\n",
       "    </tr>\n",
       "    <tr>\n",
       "      <th>15224</th>\n",
       "      <td>squamous_cell_carcinoma</td>\n",
       "      <td>2324369671</td>\n",
       "      <td>114257</td>\n",
       "    </tr>\n",
       "    <tr>\n",
       "      <th>35756</th>\n",
       "      <td>patient_with_acute</td>\n",
       "      <td>1992093885</td>\n",
       "      <td>114109</td>\n",
       "    </tr>\n",
       "    <tr>\n",
       "      <th>2108662</th>\n",
       "      <td>fourier_transform_infrared</td>\n",
       "      <td>1966994274</td>\n",
       "      <td>105576</td>\n",
       "    </tr>\n",
       "  </tbody>\n",
       "</table>\n",
       "</div>"
      ],
      "text/plain": [
       "                                 trigrams     PaperId   reuse\n",
       "961665                    quality_of_life  2215226054  346190\n",
       "1256843      scanning_electron_microscopy  2058151030  269631\n",
       "1657731        magnetic_resonance_imaging    69299825  250121\n",
       "616325   transmission_electron_microscopy  1973732174  231922\n",
       "4887036         polymerase_chain_reaction  2148312059  209968\n",
       "2074922        randomize_controlled_trial  2004769130  123107\n",
       "239290                 compare_to_control  2321278216  115503\n",
       "15224             squamous_cell_carcinoma  2324369671  114257\n",
       "35756                  patient_with_acute  1992093885  114109\n",
       "2108662        fourier_transform_infrared  1966994274  105576"
      ]
     },
     "execution_count": 9,
     "metadata": {},
     "output_type": "execute_result"
    }
   ],
   "source": [
    "df[:10]"
   ]
  },
  {
   "cell_type": "code",
   "execution_count": 8,
   "id": "7ee5dd31-0c51-4088-9cca-2d3878582e0e",
   "metadata": {},
   "outputs": [],
   "source": [
    "df.to_csv('./data/new_%s/new_%s.csv'%(gram,gram), index = False)"
   ]
  }
 ],
 "metadata": {
  "kernelspec": {
   "display_name": "Python 3 (ipykernel)",
   "language": "python",
   "name": "python3"
  },
  "language_info": {
   "codemirror_mode": {
    "name": "ipython",
    "version": 3
   },
   "file_extension": ".py",
   "mimetype": "text/x-python",
   "name": "python",
   "nbconvert_exporter": "python",
   "pygments_lexer": "ipython3",
   "version": "3.9.12"
  }
 },
 "nbformat": 4,
 "nbformat_minor": 5
}
