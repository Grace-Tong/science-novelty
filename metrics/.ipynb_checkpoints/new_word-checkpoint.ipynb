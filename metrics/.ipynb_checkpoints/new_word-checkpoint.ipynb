{
 "cells": [
  {
   "cell_type": "markdown",
   "id": "9938ac48-53da-46ab-b8cf-95f2580e2533",
   "metadata": {},
   "source": [
    "# New word "
   ]
  },
  {
   "cell_type": "markdown",
   "id": "767ec4f4-0f50-40a6-a497-d796f74a7f7e",
   "metadata": {},
   "source": [
    "Given a dataset, the notebook calculates the new word for each paper."
   ]
  },
  {
   "cell_type": "code",
   "execution_count": null,
   "id": "bcaae541-93ae-470e-9478-f403dacd763f",
   "metadata": {},
   "outputs": [],
   "source": [
    "print('Reading baseline...')\n",
    "baseline = set()\n",
    "dones = set()\n",
    "counter = Counter()\n",
    "\n",
    "reader = open(path_processed + '%s_baseline.txt'%(gram),'r', encoding=\"utf-8\")\n",
    "\n",
    "for line in tqdm(reader):\n",
    "    \n",
    "    t = gram_to_idx.get(line.replace('\\n',''))\n",
    "    if t is not None:\n",
    "        baseline.add(t)\n",
    "        \n",
    "print('Analysis...')\n",
    "\n",
    "reader = open(path_processed + '%s.csv'%(gram.split('_')[0]),'r', encoding=\"utf-8\")\n",
    "reader.__next__()\n",
    "\n",
    "writer = open('./data/new_%s/new_%s_paperId_DC.csv'%(gram,gram),'w', encoding=\"utf-8\")\n",
    "writer.write('gram_idx,PaperId\\n')\n",
    "\n",
    "\n",
    "for line in tqdm(reader, total = 103061513):\n",
    "    \n",
    "    line = line.split('\\t')\n",
    "    \n",
    "    paperId = int(line[0])\n",
    "    \n",
    "    if paperId not in paperIds:\n",
    "        continue\n",
    "                \n",
    "    text = set(' '.join(line[1:]).split(' '))\n",
    "    #text = set(line[1].split(' '))\n",
    "    text = [gram_to_idx.get(t) for t in text]\n",
    "    text = [t for t in text if ((t is not None) & (t not in baseline))]\n",
    "    \n",
    "    for token in text:\n",
    "        if token not in tokens:\n",
    "            if token not in counter:\n",
    "            \n",
    "                ## write the PaperId real\n",
    "                writer.write(','.join([\n",
    "                    str(i) for i in [\n",
    "                        token,\n",
    "                        paperId\n",
    "                    ]\n",
    "                ]) + '\\n')\n",
    "                \n",
    "                counter[token] = 0\n",
    "            else:\n",
    "                counter[token] += 1\n",
    "\n",
    "writer.close()\n",
    "reader.close()\n",
    "\n",
    "\n",
    "print('Exporting the counter...')\n",
    "writer = open('./data/new_%s/new_%s_reuse_DC.csv'%(gram,gram),'w', encoding=\"utf-8\")\n",
    "writer.write('gram_idx,reuse\\n')\n",
    "\n",
    "for token,reuse in tqdm(counter.items(), total = len(counter)):\n",
    "    writer.write(','.join([\n",
    "                str(i) for i in [\n",
    "                    token,\n",
    "                    reuse\n",
    "                ]\n",
    "            ]) + '\\n')\n",
    "    \n",
    "writer.close()"
   ]
  }
 ],
 "metadata": {
  "kernelspec": {
   "display_name": "Python 3 (ipykernel)",
   "language": "python",
   "name": "python3"
  },
  "language_info": {
   "codemirror_mode": {
    "name": "ipython",
    "version": 3
   },
   "file_extension": ".py",
   "mimetype": "text/x-python",
   "name": "python",
   "nbconvert_exporter": "python",
   "pygments_lexer": "ipython3",
   "version": "3.9.7"
  }
 },
 "nbformat": 4,
 "nbformat_minor": 5
}
