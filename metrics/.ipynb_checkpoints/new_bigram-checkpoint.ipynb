{
 "cells": [
  {
   "cell_type": "code",
   "execution_count": 1,
   "id": "b86ff862-a28e-45ac-a98c-3e74f9935131",
   "metadata": {},
   "outputs": [
    {
     "data": {
      "application/vnd.jupyter.widget-view+json": {
       "model_id": "695920c8d8cf40098eecdf06d2e5ae3b",
       "version_major": 2,
       "version_minor": 0
      },
      "text/plain": [
       "0it [00:00, ?it/s]"
      ]
     },
     "metadata": {},
     "output_type": "display_data"
    }
   ],
   "source": [
    "import os\n",
    "import pandas as pd\n",
    "from tqdm.notebook import tqdm\n",
    "tqdm().pandas()\n",
    "import numpy as np\n",
    "\n",
    "from collections import Counter\n",
    "\n",
    "from sklearn.metrics.pairwise import cosine_similarity\n",
    "\n",
    "path = 'D:/Users/Nicola Melluso/ScientificPublications/'\n",
    "path_vectors = path + 'Papers/TitleAbstract/papers_vectors/'\n",
    "\n",
    "path_processed = path + 'PapersProcessed/'\n",
    "\n",
    "gram = 'bigrams'"
   ]
  },
  {
   "cell_type": "markdown",
   "id": "712052ff-7ac7-4acf-b21b-571a3d9f5261",
   "metadata": {},
   "source": [
    "## ************** "
   ]
  },
  {
   "cell_type": "code",
   "execution_count": 6,
   "id": "38f7f2ca-065e-49c0-8774-cb428e9ac9df",
   "metadata": {
    "tags": []
   },
   "outputs": [
    {
     "name": "stdout",
     "output_type": "stream",
     "text": [
      "Reading baseline...\n"
     ]
    },
    {
     "data": {
      "application/vnd.jupyter.widget-view+json": {
       "model_id": "38f64df37ea14d42b91394e862f19761",
       "version_major": 2,
       "version_minor": 0
      },
      "text/plain": [
       "0it [00:00, ?it/s]"
      ]
     },
     "metadata": {},
     "output_type": "display_data"
    },
    {
     "name": "stdout",
     "output_type": "stream",
     "text": [
      "Analysis...\n"
     ]
    },
    {
     "data": {
      "application/vnd.jupyter.widget-view+json": {
       "model_id": "f2acbff344564a0f87f31ec950b56be8",
       "version_major": 2,
       "version_minor": 0
      },
      "text/plain": [
       "  0%|          | 0/103061513 [00:00<?, ?it/s]"
      ]
     },
     "metadata": {},
     "output_type": "display_data"
    },
    {
     "name": "stdout",
     "output_type": "stream",
     "text": [
      "Exporting the counter...\n"
     ]
    },
    {
     "data": {
      "application/vnd.jupyter.widget-view+json": {
       "model_id": "0b911e832fb54b009a6dee7b67d0e3e7",
       "version_major": 2,
       "version_minor": 0
      },
      "text/plain": [
       "  0%|          | 0/4118839 [00:00<?, ?it/s]"
      ]
     },
     "metadata": {},
     "output_type": "display_data"
    }
   ],
   "source": [
    "print('Reading baseline...')\n",
    "baseline = set()\n",
    "dones = set()\n",
    "counter = Counter()\n",
    "\n",
    "reader = open(path_processed + '%s_baseline.txt'%(gram),'r', encoding=\"utf-8\")\n",
    "\n",
    "for line in tqdm(reader):\n",
    "    \n",
    "    t = gram_to_idx.get(line.replace('\\n',''))\n",
    "    if t is not None:\n",
    "        baseline.add(t)\n",
    "        \n",
    "print('Analysis...')\n",
    "\n",
    "reader = open(path_processed + '%s.csv'%(gram.split('_')[0]),'r', encoding=\"utf-8\")\n",
    "reader.__next__()\n",
    "\n",
    "writer = open('./data/new_%s/new_%s_paperId_DC.csv'%(gram,gram),'w', encoding=\"utf-8\")\n",
    "writer.write('gram_idx,PaperId\\n')\n",
    "\n",
    "\n",
    "for line in tqdm(reader, total = 103061513):\n",
    "    \n",
    "    line = line.split('\\t')\n",
    "    \n",
    "    paperId = int(line[0])\n",
    "    \n",
    "    if paperId not in paperIds:\n",
    "        continue\n",
    "                \n",
    "    text = set(' '.join(line[1:]).split(' '))\n",
    "    #text = set(line[1].split(' '))\n",
    "    text = [gram_to_idx.get(t) for t in text]\n",
    "    text = [t for t in text if ((t is not None) & (t not in baseline))]\n",
    "    \n",
    "    for token in text:\n",
    "        if token not in tokens:\n",
    "            if token not in counter:\n",
    "            \n",
    "                ## write the PaperId real\n",
    "                writer.write(','.join([\n",
    "                    str(i) for i in [\n",
    "                        token,\n",
    "                        paperId\n",
    "                    ]\n",
    "                ]) + '\\n')\n",
    "                \n",
    "                counter[token] = 0\n",
    "            else:\n",
    "                counter[token] += 1\n",
    "\n",
    "writer.close()\n",
    "reader.close()\n",
    "\n",
    "\n",
    "print('Exporting the counter...')\n",
    "writer = open('./data/new_%s/new_%s_reuse_DC.csv'%(gram,gram),'w', encoding=\"utf-8\")\n",
    "writer.write('gram_idx,reuse\\n')\n",
    "\n",
    "for token,reuse in tqdm(counter.items(), total = len(counter)):\n",
    "    writer.write(','.join([\n",
    "                str(i) for i in [\n",
    "                    token,\n",
    "                    reuse\n",
    "                ]\n",
    "            ]) + '\\n')\n",
    "    \n",
    "writer.close()\n"
   ]
  }
 ],
 "metadata": {
  "kernelspec": {
   "display_name": "Python 3 (ipykernel)",
   "language": "python",
   "name": "python3"
  },
  "language_info": {
   "codemirror_mode": {
    "name": "ipython",
    "version": 3
   },
   "file_extension": ".py",
   "mimetype": "text/x-python",
   "name": "python",
   "nbconvert_exporter": "python",
   "pygments_lexer": "ipython3",
   "version": "3.9.7"
  }
 },
 "nbformat": 4,
 "nbformat_minor": 5
}
